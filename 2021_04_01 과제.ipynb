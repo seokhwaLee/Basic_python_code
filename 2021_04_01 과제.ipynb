{
 "cells": [
  {
   "cell_type": "code",
   "execution_count": 9,
   "metadata": {},
   "outputs": [
    {
     "name": "stdout",
     "output_type": "stream",
     "text": [
      "2 x 1 = 4\n",
      "2 x 2 = 4\n",
      "2 x 3 = 4\n",
      "2 x 4 = 4\n",
      "2 x 5 = 4\n",
      "2 x 6 = 4\n",
      "2 x 7 = 4\n",
      "2 x 8 = 4\n",
      "2 x 9 = 4\n",
      "3 x 1 = 9\n",
      "3 x 2 = 9\n",
      "3 x 3 = 9\n",
      "3 x 4 = 9\n",
      "3 x 5 = 9\n",
      "3 x 6 = 9\n",
      "3 x 7 = 9\n",
      "3 x 8 = 9\n",
      "3 x 9 = 9\n",
      "4 x 1 = 16\n",
      "4 x 2 = 16\n",
      "4 x 3 = 16\n",
      "4 x 4 = 16\n",
      "4 x 5 = 16\n",
      "4 x 6 = 16\n",
      "4 x 7 = 16\n",
      "4 x 8 = 16\n",
      "4 x 9 = 16\n",
      "5 x 1 = 25\n",
      "5 x 2 = 25\n",
      "5 x 3 = 25\n",
      "5 x 4 = 25\n",
      "5 x 5 = 25\n",
      "5 x 6 = 25\n",
      "5 x 7 = 25\n",
      "5 x 8 = 25\n",
      "5 x 9 = 25\n",
      "6 x 1 = 36\n",
      "6 x 2 = 36\n",
      "6 x 3 = 36\n",
      "6 x 4 = 36\n",
      "6 x 5 = 36\n",
      "6 x 6 = 36\n",
      "6 x 7 = 36\n",
      "6 x 8 = 36\n",
      "6 x 9 = 36\n",
      "7 x 1 = 49\n",
      "7 x 2 = 49\n",
      "7 x 3 = 49\n",
      "7 x 4 = 49\n",
      "7 x 5 = 49\n",
      "7 x 6 = 49\n",
      "7 x 7 = 49\n",
      "7 x 8 = 49\n",
      "7 x 9 = 49\n",
      "8 x 1 = 64\n",
      "8 x 2 = 64\n",
      "8 x 3 = 64\n",
      "8 x 4 = 64\n",
      "8 x 5 = 64\n",
      "8 x 6 = 64\n",
      "8 x 7 = 64\n",
      "8 x 8 = 64\n",
      "8 x 9 = 64\n",
      "9 x 1 = 81\n",
      "9 x 2 = 81\n",
      "9 x 3 = 81\n",
      "9 x 4 = 81\n",
      "9 x 5 = 81\n",
      "9 x 6 = 81\n",
      "9 x 7 = 81\n",
      "9 x 8 = 81\n",
      "9 x 9 = 81\n"
     ]
    }
   ],
   "source": [
    "##구구단을 외자\n",
    "num = range(1,10)\n",
    "numm = range (2,10)\n",
    "for mult in numm :\n",
    "    for multi in num:\n",
    "        print(mult, 'x' , multi, '=' , mult * mult)"
   ]
  },
  {
   "cell_type": "code",
   "execution_count": 45,
   "metadata": {},
   "outputs": [
    {
     "name": "stdout",
     "output_type": "stream",
     "text": [
      "숫자를 넣어주세요 : 13\n",
      "369 게임~~~🎉🎉🎉\n",
      "1 -> 1\n",
      "2 -> 2\n",
      "3 -> 짝!!\n",
      "4 -> 4\n",
      "5 -> 5\n",
      "6 -> 짝!!\n",
      "7 -> 7\n",
      "8 -> 8\n",
      "9 -> 짝!!\n",
      "10 -> 10\n",
      "10 -> 10\n",
      "11 -> 11\n",
      "11 -> 11\n",
      "12 -> 12\n",
      "12 -> 12\n",
      "13 -> 13\n",
      "13 -> 짝!!\n"
     ]
    }
   ],
   "source": [
    "## 3 6 9! 3 6 9!!   3 6 9! 3 6 9 !! \n",
    "# 나머지 이용\n",
    "fin = int( input ('숫자를 넣어주세요 : '))\n",
    "print('369 게임~~~🎉🎉🎉')\n",
    "for num in range(1, fin + 1) :\n",
    "    cnt = 0\n",
    "    for numm in str(num):\n",
    "        int_numm = int(numm)\n",
    "        if int_numm % 3 == 0 and int_numm != 0:\n",
    "            cnt += 1\n",
    "        if cnt != 0:\n",
    "            print(num, '->', '짝!!' * cnt)\n",
    "        if cnt == 0:\n",
    "            print(num, '->' , num)"
   ]
  },
  {
   "cell_type": "code",
   "execution_count": 43,
   "metadata": {},
   "outputs": [
    {
     "name": "stdout",
     "output_type": "stream",
     "text": [
      "시작 숫자를 넣어주세요 : 20\n",
      "끝 숫자를 넣어주세요 : 40\n",
      "369 게임~~~🎉🎉🎉\n",
      "20 -> \n",
      "21 -> \n",
      "22 -> \n",
      "23 -> 🙏\n",
      "24 -> \n",
      "25 -> \n",
      "26 -> 🙏\n",
      "27 -> \n",
      "28 -> \n",
      "29 -> 🙏\n",
      "30 -> 🙏\n",
      "31 -> 🙏\n",
      "32 -> 🙏\n",
      "33 -> 🙏🙏\n",
      "34 -> 🙏\n",
      "35 -> 🙏\n",
      "36 -> 🙏🙏\n",
      "37 -> 🙏\n",
      "38 -> 🙏\n",
      "39 -> 🙏🙏\n",
      "40 -> \n"
     ]
    }
   ],
   "source": [
    "## 3 6 9! 3 6 9!!   3 6 9! 3 6 9 !! \n",
    "# if문 활용\n",
    "start = int( input ('시작 숫자를 넣어주세요 : '))\n",
    "fin = int (input ('끝 숫자를 넣어주세요 : '))\n",
    "print('369 게임~~~🎉🎉🎉')\n",
    "for num in range(start , fin + 1):\n",
    "    cnt = 0\n",
    "    for number in str(num) :\n",
    "        if number == '3' or number == '6' or number == '9':\n",
    "            cnt = cnt + 1\n",
    "    print(num, '->', '🙏' * cnt )"
   ]
  }
 ],
 "metadata": {
  "kernelspec": {
   "display_name": "Python 3",
   "language": "python",
   "name": "python3"
  },
  "language_info": {
   "codemirror_mode": {
    "name": "ipython",
    "version": 3
   },
   "file_extension": ".py",
   "mimetype": "text/x-python",
   "name": "python",
   "nbconvert_exporter": "python",
   "pygments_lexer": "ipython3",
   "version": "3.8.5"
  }
 },
 "nbformat": 4,
 "nbformat_minor": 4
}
