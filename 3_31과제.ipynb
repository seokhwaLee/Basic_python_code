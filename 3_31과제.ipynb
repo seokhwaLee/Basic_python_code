{
 "cells": [
  {
   "cell_type": "code",
   "execution_count": 4,
   "metadata": {},
   "outputs": [
    {
     "name": "stdout",
     "output_type": "stream",
     "text": [
      "서로 같은 것을 내면 비긴다.\n",
      "가위는 보에 이기고 바위에 진다.\n",
      "바위는 가위에 이기고 보에 진다.\n",
      "보는 바위에 이기고 가위에 진다.\n",
      "가위, 바위, 보 중 하나를 내주세요 : 보\n",
      "사용자는 보 를 냈습니다.\n",
      "컴퓨터는 보 를 냈습니다.\n",
      "무승부입니다.\n",
      "가위, 바위, 보 중 하나를 내주세요 : 보\n",
      "사용자는 보 를 냈습니다.\n",
      "컴퓨터는 보 를 냈습니다.\n",
      "무승부입니다.\n",
      "가위, 바위, 보 중 하나를 내주세요 : 가위\n",
      "사용자는 가위 를 냈습니다.\n",
      "컴퓨터는 바위 를 냈습니다.\n",
      "당신이 졌습니다.\n",
      "가위, 바위, 보 중 하나를 내주세요 : 바위\n",
      "사용자는 바위 를 냈습니다.\n",
      "컴퓨터는 보 를 냈습니다.\n",
      "당신이 졌습니다.\n",
      "가위, 바위, 보 중 하나를 내주세요 : 보\n",
      "사용자는 보 를 냈습니다.\n",
      "컴퓨터는 보 를 냈습니다.\n",
      "무승부입니다.\n",
      "가위, 바위, 보 중 하나를 내주세요 : 보\n",
      "사용자는 보 를 냈습니다.\n",
      "컴퓨터는 보 를 냈습니다.\n",
      "무승부입니다.\n",
      "가위, 바위, 보 중 하나를 내주세요 : 가위\n",
      "사용자는 가위 를 냈습니다.\n",
      "컴퓨터는 바위 를 냈습니다.\n",
      "당신이 졌습니다.\n",
      "가위, 바위, 보 중 하나를 내주세요 : 바위\n",
      "사용자는 바위 를 냈습니다.\n",
      "컴퓨터는 바위 를 냈습니다.\n",
      "무승부입니다.\n",
      "가위, 바위, 보 중 하나를 내주세요 : 바위\n",
      "사용자는 바위 를 냈습니다.\n",
      "컴퓨터는 가위 를 냈습니다.\n",
      "당신이 이겼습니다.\n"
     ]
    }
   ],
   "source": [
    "import random   ##random 함수 사용하기 위해 import\n",
    "\n",
    "## 가위바위보 룰 설명\n",
    "print('1. 서로 같은 것을 내면 비긴다.')\n",
    "print('2. 가위는 보에 이기고 바위에 진다.')\n",
    "print('3. 바위는 가위에 이기고 보에 진다.')\n",
    "print('4. 보는 바위에 이기고 가위에 진다.')\n",
    "\n",
    "cnt = 0\n",
    "\n",
    "## While loop 설정!\n",
    "while cnt < 1:\n",
    "    ## 가위바위보 내기\n",
    "    user = input('가위, 바위, 보 중 하나를 내주세요 : ')\n",
    "    import random\n",
    "    numcomputer = random.randint(0,2)\n",
    "    if numcomputer == 0 : \n",
    "        computer = '가위'\n",
    "    elif numcomputer == 1 : \n",
    "        computer = '바위'\n",
    "    else:\n",
    "        computer = '보'\n",
    "\n",
    "    print('사용자는 ' + user + ' 를 냈습니다.')\n",
    "    print('컴퓨터는 ' + computer + ' 를 냈습니다.')\n",
    "    \n",
    "    ##승부 결정\n",
    "    if computer == user:\n",
    "        print('무승부입니다.')\n",
    "    elif (computer == '바위' and user =='가위') or (computer =='가위' and user=='보') or (computer =='보' and user == '바위') :\n",
    "        print('당신이 졌습니다.')\n",
    "    else:\n",
    "        print('당신이 이겼습니다.')\n",
    "        cnt = 2   ## 이긴 후 루프에서 빠져나오기 위해 cnt값 부여"
   ]
  },
  {
   "cell_type": "code",
   "execution_count": 6,
   "metadata": {},
   "outputs": [
    {
     "name": "stdout",
     "output_type": "stream",
     "text": [
      "로또번호 생성 프로그램\n",
      "=======================\n",
      "첫번째 번호는 14 입니다.\n",
      "두번째 번호는 44 입니다.\n",
      "세번째 번호는 20 입니다.\n",
      "네번째 번호는 7 입니다.\n",
      "다섯번째 번호는 23 입니다.\n",
      "여섯번째 번호는 5 입니다.\n"
     ]
    }
   ],
   "source": [
    "print('로또번호 생성 프로그램')\n",
    "print('=======================')\n",
    "\n",
    "import random\n",
    "\n",
    "lotto1 = random.randint(1, 45)\n",
    "print('첫번째 번호는 ' + str(lotto1) + ' 입니다.')\n",
    "\n",
    "\n",
    "while True :\n",
    "    lotto2 = random.randint(1, 45)\n",
    "    if lotto2 != lotto1:\n",
    "        break\n",
    "print('두번째 번호는 ' + str(lotto2) + ' 입니다.')\n",
    "    \n",
    "    \n",
    "while True :\n",
    "    lotto3 = random.randint(1, 45)\n",
    "    if lotto3 != lotto1 and lotto3 != lotto2:\n",
    "        break\n",
    "print('세번째 번호는 ' + str(lotto3) + ' 입니다.')\n",
    "\n",
    "\n",
    "while True :\n",
    "    lotto4 = random.randint(1, 45)\n",
    "    if lotto4 != lotto1 and lotto4 != lotto2 and lotto4 != lotto3:\n",
    "        break\n",
    "print('네번째 번호는 ' + str(lotto4) + ' 입니다.')\n",
    "\n",
    "\n",
    "while True :\n",
    "    lotto5 = random.randint(1, 45)\n",
    "    if lotto5 != lotto1 and lotto5 != lotto2 and lotto5 != lotto3 and lotto5 != lotto4:\n",
    "        break\n",
    "print('다섯번째 번호는 ' + str(lotto5) + ' 입니다.')\n",
    "\n",
    "while True :\n",
    "    lotto6 = random.randint(1, 45)\n",
    "    if lotto6 != lotto1 and lotto6 != lotto2 and lotto6 != lotto3 and lotto6 != lotto4 and lotto6 != lotto5:\n",
    "        break\n",
    "print('여섯번째 번호는 ' + str(lotto6) + ' 입니다.')"
   ]
  },
  {
   "cell_type": "code",
   "execution_count": 6,
   "metadata": {},
   "outputs": [
    {
     "name": "stdout",
     "output_type": "stream",
     "text": [
      "1번째 번호는 31입니다.\n",
      "2번째 번호는 7입니다.\n",
      "3번째 번호는 11입니다.\n",
      "4번째 번호는 24입니다.\n",
      "5번째 번호는 27입니다.\n",
      "6번째 번호는 43입니다.\n"
     ]
    }
   ],
   "source": [
    "cnt = 1\n",
    "num_list = []\n",
    "while True:\n",
    "    num = str(random.randint(1,45))\n",
    "    if num in num_list:\n",
    "        pass\n",
    "    else:\n",
    "        print(str(cnt) + '번째 번호는 ' + num + '입니다.')\n",
    "        num_list.append(num)\n",
    "        cnt += 1\n",
    "        if len(num_list)  == 6:\n",
    "            break"
   ]
  },
  {
   "cell_type": "code",
   "execution_count": null,
   "metadata": {},
   "outputs": [],
   "source": []
  }
 ],
 "metadata": {
  "kernelspec": {
   "display_name": "Python 3",
   "language": "python",
   "name": "python3"
  },
  "language_info": {
   "codemirror_mode": {
    "name": "ipython",
    "version": 3
   },
   "file_extension": ".py",
   "mimetype": "text/x-python",
   "name": "python",
   "nbconvert_exporter": "python",
   "pygments_lexer": "ipython3",
   "version": "3.8.5"
  }
 },
 "nbformat": 4,
 "nbformat_minor": 4
}
